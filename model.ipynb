{
 "cells": [
  {
   "cell_type": "code",
<<<<<<< HEAD
   "execution_count": 18,
   "metadata": {},
   "outputs": [
    {
     "ename": "",
     "evalue": "",
     "output_type": "error",
     "traceback": [
      "\u001b[1;31mThe Kernel crashed while executing code in the current cell or a previous cell. \n",
      "\u001b[1;31mPlease review the code in the cell(s) to identify a possible cause of the failure. \n",
      "\u001b[1;31mClick <a href='https://aka.ms/vscodeJupyterKernelCrash'>here</a> for more info. \n",
      "\u001b[1;31mView Jupyter <a href='command:jupyter.viewOutput'>log</a> for further details."
     ]
    },
    {
     "ename": "",
     "evalue": "",
     "output_type": "error",
     "traceback": [
      "\u001b[1;31mCanceled future for execute_request message before replies were done"
     ]
    },
    {
     "ename": "",
     "evalue": "",
     "output_type": "error",
     "traceback": [
      "\u001b[1;31mCanceled future for execute_request message before replies were done. \n",
      "\u001b[1;31mView Jupyter <a href='command:jupyter.viewOutput'>log</a> for further details."
     ]
    }
   ],
   "source": [
    "from transformers import AutoTokenizer, AutoModelForSequenceClassification\n",
    "from scipy.special import softmax\n"
   ]
  },
  {
   "cell_type": "code",
   "execution_count": 1,
   "metadata": {},
   "outputs": [
    {
     "ename": "",
     "evalue": "",
     "output_type": "error",
     "traceback": [
      "\u001b[1;31mThe Kernel crashed while executing code in the current cell or a previous cell. \n",
      "\u001b[1;31mPlease review the code in the cell(s) to identify a possible cause of the failure. \n",
      "\u001b[1;31mClick <a href='https://aka.ms/vscodeJupyterKernelCrash'>here</a> for more info. \n",
      "\u001b[1;31mView Jupyter <a href='command:jupyter.viewOutput'>log</a> for further details."
     ]
    },
    {
     "ename": "",
     "evalue": "",
     "output_type": "error",
     "traceback": [
      "\u001b[1;31mCanceled future for execute_request message before replies were done"
     ]
    },
    {
     "ename": "",
     "evalue": "",
     "output_type": "error",
     "traceback": [
      "\u001b[1;31mCanceled future for execute_request message before replies were done. \n",
      "\u001b[1;31mView Jupyter <a href='command:jupyter.viewOutput'>log</a> for further details."
     ]
    }
   ],
   "source": [
    "import tensorflow"
   ]
  },
  {
   "cell_type": "code",
   "execution_count": 12,
=======
   "execution_count": 1,
>>>>>>> 9c7f7d64b6d576a50a3c3846fcee3918849e8ee4
   "metadata": {},
   "outputs": [
    {
     "name": "stderr",
     "output_type": "stream",
     "text": [
      "[nltk_data] Error loading all: <urlopen error [SSL:\n",
      "[nltk_data]     CERTIFICATE_VERIFY_FAILED] certificate verify failed:\n",
      "[nltk_data]     unable to get local issuer certificate (_ssl.c:1129)>\n",
      "[nltk_data] Error loading vader_lexicon: <urlopen error [SSL:\n",
      "[nltk_data]     CERTIFICATE_VERIFY_FAILED] certificate verify failed:\n",
      "[nltk_data]     unable to get local issuer certificate (_ssl.c:1129)>\n"
     ]
    }
   ],
   "source": [
    "#RUN ALWAYS\n",
    "import numpy as np\n",
    "import pandas as pd\n",
    "import math\n",
    "import re\n",
    "import nltk\n",
    "nltk.download('all')\n",
    "nltk.download('vader_lexicon')\n",
    "from nltk.corpus import wordnet as wn\n",
    "from nltk.sentiment.vader import SentimentIntensityAnalyzer\n",
    "#from nltk.corpus import stopwords\n",
    "#from ntlk.stem.porter import PorterStemmer\n",
    "\n",
    "\n",
    "\n"
   ]
  },
  {
   "cell_type": "code",
<<<<<<< HEAD
   "execution_count": 16,
=======
   "execution_count": 2,
>>>>>>> 9c7f7d64b6d576a50a3c3846fcee3918849e8ee4
   "metadata": {},
   "outputs": [
    {
     "name": "stdout",
     "output_type": "stream",
     "text": [
      "showing info https://raw.githubusercontent.com/nltk/nltk_data/gh-pages/index.xml\n"
     ]
    },
    {
     "data": {
      "text/plain": [
       "True"
      ]
     },
     "execution_count": 16,
     "metadata": {},
     "output_type": "execute_result"
    }
   ],
   "source": [
    "import nltk\n",
    "import ssl\n",
    "try:\n",
    "    _create_unverified_https_context = ssl._create_unverified_context\n",
    "except AttributeError:\n",
    "    pass\n",
    "else:\n",
    "    ssl._create_default_https_context = _create_unverified_https_context\n",
    "\n",
    "nltk.download()"
   ]
  },
  {
   "cell_type": "code",
   "execution_count": 17,
   "metadata": {},
   "outputs": [
    {
     "data": {
      "application/vnd.jupyter.widget-view+json": {
       "model_id": "7156293553474d139589f29d40d64373",
       "version_major": 2,
       "version_minor": 0
      },
      "text/plain": [
       "config.json:   0%|          | 0.00/747 [00:00<?, ?B/s]"
      ]
     },
     "metadata": {},
     "output_type": "display_data"
    },
    {
     "data": {
      "application/vnd.jupyter.widget-view+json": {
       "model_id": "75e022c940ac49a19107ef6332cfd319",
       "version_major": 2,
       "version_minor": 0
      },
      "text/plain": [
       "vocab.json:   0%|          | 0.00/899k [00:00<?, ?B/s]"
      ]
     },
     "metadata": {},
     "output_type": "display_data"
    },
    {
     "data": {
      "application/vnd.jupyter.widget-view+json": {
       "model_id": "dbf3cb1b0dde4813a8ca684ea2a97489",
       "version_major": 2,
       "version_minor": 0
      },
      "text/plain": [
       "merges.txt:   0%|          | 0.00/456k [00:00<?, ?B/s]"
      ]
     },
     "metadata": {},
     "output_type": "display_data"
    },
    {
     "data": {
      "application/vnd.jupyter.widget-view+json": {
       "model_id": "ac3c6c13cb0640a1b774cae20408b887",
       "version_major": 2,
       "version_minor": 0
      },
      "text/plain": [
       "special_tokens_map.json:   0%|          | 0.00/150 [00:00<?, ?B/s]"
      ]
     },
     "metadata": {},
     "output_type": "display_data"
    },
    {
     "ename": "ImportError",
     "evalue": "\nAutoModelForSequenceClassification requires the PyTorch library but it was not found in your environment.\nHowever, we were able to find a TensorFlow installation. TensorFlow classes begin\nwith \"TF\", but are otherwise identically named to our PyTorch classes. This\nmeans that the TF equivalent of the class you tried to import would be \"TFAutoModelForSequenceClassification\".\nIf you want to use TensorFlow, please use TF classes instead!\n\nIf you really do want to use PyTorch please go to\nhttps://pytorch.org/get-started/locally/ and follow the instructions that\nmatch your environment.\n",
     "output_type": "error",
     "traceback": [
      "\u001b[0;31m---------------------------------------------------------------------------\u001b[0m",
      "\u001b[0;31mImportError\u001b[0m                               Traceback (most recent call last)",
      "Cell \u001b[0;32mIn[17], line 11\u001b[0m\n\u001b[1;32m      9\u001b[0m ROBERTA_MODEL \u001b[38;5;241m=\u001b[39m \u001b[38;5;124mf\u001b[39m\u001b[38;5;124m\"\u001b[39m\u001b[38;5;124mcardiffnlp/twitter-roberta-base-sentiment\u001b[39m\u001b[38;5;124m\"\u001b[39m\n\u001b[1;32m     10\u001b[0m tokenizer \u001b[38;5;241m=\u001b[39m AutoTokenizer\u001b[38;5;241m.\u001b[39mfrom_pretrained(ROBERTA_MODEL)\n\u001b[0;32m---> 11\u001b[0m model \u001b[38;5;241m=\u001b[39m \u001b[43mAutoModelForSequenceClassification\u001b[49m\u001b[38;5;241;43m.\u001b[39;49m\u001b[43mfrom_pretrained\u001b[49m(ROBERTA_MODEL)\n\u001b[1;32m     12\u001b[0m \u001b[38;5;66;03m#----------------------------------------\u001b[39;00m\n",
      "File \u001b[0;32m~/Desktop/JeMappelleCHJ/V2ACMSpringProject/.venv/lib/python3.9/site-packages/transformers/utils/import_utils.py:1412\u001b[0m, in \u001b[0;36mDummyObject.__getattribute__\u001b[0;34m(cls, key)\u001b[0m\n\u001b[1;32m   1410\u001b[0m \u001b[38;5;28;01mif\u001b[39;00m key\u001b[38;5;241m.\u001b[39mstartswith(\u001b[38;5;124m\"\u001b[39m\u001b[38;5;124m_\u001b[39m\u001b[38;5;124m\"\u001b[39m) \u001b[38;5;129;01mand\u001b[39;00m key \u001b[38;5;241m!=\u001b[39m \u001b[38;5;124m\"\u001b[39m\u001b[38;5;124m_from_config\u001b[39m\u001b[38;5;124m\"\u001b[39m:\n\u001b[1;32m   1411\u001b[0m     \u001b[38;5;28;01mreturn\u001b[39;00m \u001b[38;5;28msuper\u001b[39m()\u001b[38;5;241m.\u001b[39m\u001b[38;5;21m__getattribute__\u001b[39m(key)\n\u001b[0;32m-> 1412\u001b[0m \u001b[43mrequires_backends\u001b[49m\u001b[43m(\u001b[49m\u001b[38;5;28;43mcls\u001b[39;49m\u001b[43m,\u001b[49m\u001b[43m \u001b[49m\u001b[38;5;28;43mcls\u001b[39;49m\u001b[38;5;241;43m.\u001b[39;49m\u001b[43m_backends\u001b[49m\u001b[43m)\u001b[49m\n",
      "File \u001b[0;32m~/Desktop/JeMappelleCHJ/V2ACMSpringProject/.venv/lib/python3.9/site-packages/transformers/utils/import_utils.py:1391\u001b[0m, in \u001b[0;36mrequires_backends\u001b[0;34m(obj, backends)\u001b[0m\n\u001b[1;32m   1389\u001b[0m \u001b[38;5;66;03m# Raise an error for users who might not realize that classes without \"TF\" are torch-only\u001b[39;00m\n\u001b[1;32m   1390\u001b[0m \u001b[38;5;28;01mif\u001b[39;00m \u001b[38;5;124m\"\u001b[39m\u001b[38;5;124mtorch\u001b[39m\u001b[38;5;124m\"\u001b[39m \u001b[38;5;129;01min\u001b[39;00m backends \u001b[38;5;129;01mand\u001b[39;00m \u001b[38;5;124m\"\u001b[39m\u001b[38;5;124mtf\u001b[39m\u001b[38;5;124m\"\u001b[39m \u001b[38;5;129;01mnot\u001b[39;00m \u001b[38;5;129;01min\u001b[39;00m backends \u001b[38;5;129;01mand\u001b[39;00m \u001b[38;5;129;01mnot\u001b[39;00m is_torch_available() \u001b[38;5;129;01mand\u001b[39;00m is_tf_available():\n\u001b[0;32m-> 1391\u001b[0m     \u001b[38;5;28;01mraise\u001b[39;00m \u001b[38;5;167;01mImportError\u001b[39;00m(PYTORCH_IMPORT_ERROR_WITH_TF\u001b[38;5;241m.\u001b[39mformat(name))\n\u001b[1;32m   1393\u001b[0m \u001b[38;5;66;03m# Raise the inverse error for PyTorch users trying to load TF classes\u001b[39;00m\n\u001b[1;32m   1394\u001b[0m \u001b[38;5;28;01mif\u001b[39;00m \u001b[38;5;124m\"\u001b[39m\u001b[38;5;124mtf\u001b[39m\u001b[38;5;124m\"\u001b[39m \u001b[38;5;129;01min\u001b[39;00m backends \u001b[38;5;129;01mand\u001b[39;00m \u001b[38;5;124m\"\u001b[39m\u001b[38;5;124mtorch\u001b[39m\u001b[38;5;124m\"\u001b[39m \u001b[38;5;129;01mnot\u001b[39;00m \u001b[38;5;129;01min\u001b[39;00m backends \u001b[38;5;129;01mand\u001b[39;00m is_torch_available() \u001b[38;5;129;01mand\u001b[39;00m \u001b[38;5;129;01mnot\u001b[39;00m is_tf_available():\n",
      "\u001b[0;31mImportError\u001b[0m: \nAutoModelForSequenceClassification requires the PyTorch library but it was not found in your environment.\nHowever, we were able to find a TensorFlow installation. TensorFlow classes begin\nwith \"TF\", but are otherwise identically named to our PyTorch classes. This\nmeans that the TF equivalent of the class you tried to import would be \"TFAutoModelForSequenceClassification\".\nIf you want to use TensorFlow, please use TF classes instead!\n\nIf you really do want to use PyTorch please go to\nhttps://pytorch.org/get-started/locally/ and follow the instructions that\nmatch your environment.\n"
     ]
    }
   ],
   "source": [
    "#RUN ALWAYS\n",
    "full_dataset = pd.read_csv(\"reddit_opinion_climate_change.csv\")\n",
    "partial_dataset = full_dataset.get(\"self_text\")\n",
    "analyzer = SentimentIntensityAnalyzer()\n",
    "\n",
    "\n",
    "\n"
   ]
  },
  {
   "cell_type": "code",
   "execution_count": 3,
   "metadata": {},
   "outputs": [],
   "source": [
    "#RUN ALWAYS\n",
    "fixed_partial = partial_dataset.dropna()\n",
    "fixed_partial = fixed_partial.drop_duplicates()\n",
    "fixed_partial = list(fixed_partial)\n",
    "fixed_partial = pd.Series(fixed_partial)\n",
    "\n",
    "\n",
    "\n",
    "\n",
    "\n",
    "\n",
    "\n",
    "\n",
    "\n",
    "\n",
    "        \n",
    "\n",
    "        \n",
    "\n",
    "    \n",
    "\n"
   ]
  },
  {
   "cell_type": "code",
   "execution_count": 16,
   "metadata": {},
   "outputs": [],
   "source": [
    "#RUN ALWAYS\n",
    "pos_score_series = pd.Series()\n",
    "neu_score_series = pd.Series()\n",
    "neg_score_series = pd.Series()\n",
    "comp_score_series = pd.Series() #THIS ISN'T REALLY USED\n",
    "overall_sentiment_eval_series = pd.Series()\n",
    "model_used = pd.Series()\n"
   ]
  },
  {
   "cell_type": "code",
   "execution_count": 2,
   "metadata": {},
   "outputs": [
    {
     "ename": "IndentationError",
     "evalue": "expected an indented block (161381380.py, line 4)",
     "output_type": "error",
     "traceback": [
      "\u001b[1;36m  Cell \u001b[1;32mIn[2], line 4\u001b[1;36m\u001b[0m\n\u001b[1;33m    if(which_model.lower() != \"roberta\" or which_model.lower() != \"vader\"):\u001b[0m\n\u001b[1;37m                                                                           ^\u001b[0m\n\u001b[1;31mIndentationError\u001b[0m\u001b[1;31m:\u001b[0m expected an indented block\n"
     ]
    }
   ],
   "source": [
    "which_model = \"\"\n",
    "while which_model == \"\":\n",
    "    which_model = input(\"Roberta or Vader?\")\n",
    "    if(which_model.lower() != \"roberta\" or which_model.lower() != \"vader\"):\n",
    "        print(\"Not a valid answer \\n\")\n",
    "        which_model =' '\n",
    "        \n",
    "    \n"
   ]
  },
  {
   "cell_type": "code",
   "execution_count": 44,
   "metadata": {},
   "outputs": [],
   "source": [
    "#VADER SPECIFIC CODE\n",
    "def runmodel_Vader(dataset):\n",
    "        next_sent_dict = None\n",
    "        next_pos_value = None\n",
    "        next_neu_value = None\n",
    "        next_neg_value = None\n",
    "        next_comp_value = None\n",
    "        pos = []\n",
    "        neg = []\n",
    "        neu = []\n",
    "        comp = []\n",
    "        overall_sent = []\n",
    "        model = []\n",
    "        k = 0\n",
    "        for i in dataset:\n",
    "                next_sent_dict = analyzer.polarity_scores(i)\n",
    "                next_pos_value = next_sent_dict[\"pos\"]\n",
    "                next_neu_value = next_sent_dict[\"neu\"]\n",
    "                next_neg_value = next_sent_dict[\"neg\"]\n",
    "                next_comp_value = next_sent_dict[\"compound\"]\n",
    "                pos.append(next_pos_value)\n",
    "                neu.append(next_neu_value)\n",
    "                neg.append(next_neg_value)\n",
    "                comp.append(next_comp_value)\n",
    "                model.append(\"Vader\")\n",
    "\n",
    "        for j in range(len(dataset)):\n",
    "                weird = comp[j]\n",
    "                \n",
    "                if(weird > 0.1):\n",
    "                        overall_sent.append(\"Positive\")\n",
    "\n",
    "                elif (weird < -0.1) :\n",
    "                        overall_sent.append(\"Negative\")\n",
    "                else:\n",
    "                        overall_sent.append(\"Neutral\")\n",
    "\n",
    "        pos = pd.Series(pos)\n",
    "        neu = pd.Series(neu)\n",
    "        neg = pd.Series(neg)\n",
    "        comp = pd.Series(comp)\n",
    "        overall_sent = pd.Series(overall_sent)\n",
    "        model = pd.Series(model)\n",
    "        print(\"list initialization complete!\")\n",
    "\n",
    "        return pos, neu, neg, comp, overall_sent, model\n",
    "        \n",
    "        \n",
    "                \n",
    "\n",
    "\n",
    "\n",
    "\n",
    "\n"
   ]
  },
  {
   "cell_type": "code",
   "execution_count": 5,
   "metadata": {},
   "outputs": [
    {
     "name": "stderr",
     "output_type": "stream",
     "text": [
      "c:\\Python\\Python39\\lib\\site-packages\\tqdm\\auto.py:21: TqdmWarning: IProgress not found. Please update jupyter and ipywidgets. See https://ipywidgets.readthedocs.io/en/stable/user_install.html\n",
      "  from .autonotebook import tqdm as notebook_tqdm\n"
     ]
    }
   ],
   "source": [
    "#ROBERTA SPECIFIC CODE\n",
    "from transformers import AutoTokenizer, AutoModelForSequenceClassification\n",
    "from scipy.special import softmax\n",
    "import tensorflow as tf"
   ]
  },
  {
   "cell_type": "code",
   "execution_count": 6,
   "metadata": {},
   "outputs": [],
   "source": [
    "#ROBERTA SPECIFIC CODE\n",
    "ROBERTA_MODEL = f\"cardiffnlp/twitter-roberta-base-sentiment\"\n",
    "tokenizer = AutoTokenizer.from_pretrained(ROBERTA_MODEL)\n",
    "model = AutoModelForSequenceClassification.from_pretrained(ROBERTA_MODEL)\n"
   ]
  },
  {
   "cell_type": "code",
   "execution_count": 39,
   "metadata": {},
   "outputs": [],
   "source": [
    "#ROBERTA SPECIFIC CODE\n",
    "fixed_roberta_partial = list(fixed_partial)\n",
    "fixed_roberta_partial = fixed_roberta_partial[:1000]\n",
    "fixed_roberta_partial = pd.Series(fixed_roberta_partial)  \n",
    "\n"
   ]
  },
  {
   "cell_type": "code",
   "execution_count": 78,
   "metadata": {},
   "outputs": [],
   "source": [
    "#Hee hee ha ha stolen from Vader. Also not really even used so forget it\n",
    "def normalize(score, alpha=15):\n",
    "    \"\"\"\n",
    "    Normalize the score to be between -1 and 1 using an alpha that\n",
    "    approximates the max expected value\n",
    "    \"\"\"\n",
    "    norm_score = score/math.sqrt((score*score) + alpha)\n",
    "    return norm_score"
   ]
  },
  {
   "cell_type": "code",
   "execution_count": 18,
   "metadata": {},
   "outputs": [],
   "source": [
    "def polarity_scores_roberta(text):\n",
    "    encoded_text = tokenizer(text, return_tensors='pt')\n",
    "    if(encoded_text[\"input_ids\"].size(dim=1) > 512):\n",
    "        return None\n",
    "    else: \n",
    "        output = model(**encoded_text)\n",
    "        scores = output[0][0].detach().numpy()\n",
    "        scores = softmax(scores)\n",
    "        scores_dict = {\n",
    "            'neg' : scores[0],\n",
    "            'neu' : scores[1],\n",
    "            'pos' : scores[2],\n",
    "            'compound' : scores[2]-scores[0] #This compound score doesn't work well.\n",
    "        }\n",
    "        return scores_dict"
   ]
  },
  {
   "cell_type": "code",
   "execution_count": 37,
   "metadata": {},
   "outputs": [],
   "source": [
    "#Roberta Specific\n",
    "\n",
    "def runmodel_roberta_hybrid(dataset):\n",
    "        next_sent_dict = None\n",
    "        next_pos_value = None\n",
    "        next_neu_value = None\n",
    "        next_neg_value = None\n",
    "        next_comp_value = None\n",
    "        pos = []\n",
    "        neg = []\n",
    "        neu = []\n",
    "        comp = []\n",
    "        overall_sent = []\n",
    "        model = []\n",
    "        k = 0\n",
    "        for i in dataset:\n",
    "                print(\"Start Process\")\n",
    "                print(i)\n",
    "                next_sent_dict = polarity_scores_roberta(i)\n",
    "                print(\"Finished Roberta\")\n",
    "                if(next_sent_dict == None):\n",
    "                        next_sent_dict = analyzer.polarity_scores(i)\n",
    "                        model.append(\"Vader\")\n",
    "                else:\n",
    "                        model.append(\"Roberta\")\n",
    "\n",
    "                next_pos_value = next_sent_dict[\"pos\"]\n",
    "                next_neu_value = next_sent_dict[\"neu\"]\n",
    "                next_neg_value = next_sent_dict[\"neg\"]\n",
    "                next_comp_value = next_sent_dict[\"compound\"]\n",
    "                pos.append(next_pos_value)\n",
    "                neu.append(next_neu_value)\n",
    "                neg.append(next_neg_value)\n",
    "                comp.append(next_comp_value)\n",
    "                print(\"Finished value! \" + str(k))\n",
    "                k+=1\n",
    "        \n",
    "        \n",
    "        \n",
    "        for j in range(len(dataset)):\n",
    "                if(model[j] == \"Roberta\"):\n",
    "                        weird = pos[j] - neg[j]\n",
    "                else:\n",
    "                        weird = comp[j]\n",
    "                \n",
    "                if(weird > 0.1):\n",
    "                        overall_sent.append(\"Positive\")\n",
    "\n",
    "                elif (weird < -0.1) :\n",
    "                        overall_sent.append(\"Negative\")\n",
    "                else:\n",
    "                        overall_sent.append(\"Neutral\")\n",
    "\n",
    "        pos = pd.Series(pos)\n",
    "        neu = pd.Series(neu)\n",
    "        neg = pd.Series(neg)\n",
    "        comp = pd.Series(comp)\n",
    "        overall_sent = pd.Series(overall_sent)\n",
    "        model = pd.Series(model)\n",
    "        print(\"list initialization complete!\")\n",
    "\n",
    "        return pos, neu, neg, comp, overall_sent, model"
   ]
  },
  {
   "cell_type": "code",
   "execution_count": 90,
   "metadata": {},
   "outputs": [
    {
     "data": {
      "text/plain": [
       "1190442"
      ]
     },
     "execution_count": 90,
     "metadata": {},
     "output_type": "execute_result"
    }
   ],
   "source": []
  },
  {
   "cell_type": "code",
   "execution_count": 46,
   "metadata": {},
   "outputs": [
    {
     "name": "stdout",
     "output_type": "stream",
     "text": [
      "list initialization complete!\n"
     ]
    }
   ],
   "source": [
    "#RUN FOR ONLY VADER MODEL\n",
    "pos_score_series, neu_score_series, neg_score_series, comp_score_series, overall_sentiment_eval_series, model_used = runmodel_Vader(fixed_roberta_partial)\n",
    "#WARNING. THIS MODEL ON IT'S OWN IS HIGHLY INACCURATE. PROCEED WITH CAUTION"
   ]
  },
  {
   "cell_type": "code",
   "execution_count": 40,
   "metadata": {},
   "outputs": [
    {
     "name": "stdout",
     "output_type": "stream",
     "text": [
      "Start Process\n",
      "Seeing parents letting their children look up without protection .. so bad...\n",
      "Finished Roberta\n",
      "Finished value! 0\n",
      "Start Process\n",
      "You know who also benefits from WFH? The people that have to be on site because there is less traffic and completion for parking. \n",
      "\n",
      "Pretty much everyone wins with WFH except commercial real estate.\n",
      "Finished Roberta\n",
      "Finished value! 1\n",
      "Start Process\n",
      "Do you have any concept of how expensive public transportation is to operate and maintain? The only reason it is as cheap as it is is because it's heavily subsidized from tolls on drivers.\n",
      "\n",
      "If driving was reduced, funding would be reduced but the price of tolls wouldn't go down (they virtually never do). So, to make up that lost revenue in the form of increased taxes, now the people who still need to drive have to still pay the same tolls AND now they get to pay a tax too. Then, the lower income people who never had to pay a tax on transit now have to pay fares and now a new tax.\n",
      "\n",
      "For example, The NYC MTA is a black hole of money. Throwing more revenue at it never reduces costs to users.\n",
      "Finished Roberta\n",
      "Finished value! 2\n",
      "Start Process\n",
      "Renewables, namely hydro, were the primary mover for the first few decades of the Industrial Revolution. But the steam engine allowed for longer working hours and more control over the working class, so it won out despite the fuel being more expensive.\n",
      "\n",
      "Read *fossil capital* by Andreas Malm.\n",
      "Finished Roberta\n",
      "Finished value! 3\n",
      "Start Process\n",
      "??\n",
      "Finished Roberta\n",
      "Finished value! 4\n",
      "Start Process\n",
      "Translation: oil and gas companies will lose money when people aren't forced to drive to and from work every day.\n",
      "\n",
      "\n",
      "Workers will save money and time from working from home.\n",
      "\n",
      "\n",
      "\n",
      "\n",
      " It's actually win win. \n",
      "Finished Roberta\n",
      "Finished value! 5\n",
      "Start Process\n",
      "And how is that working out?\n",
      "Finished Roberta\n",
      "Finished value! 6\n",
      "Start Process\n",
      "This is why nobody takes nukecels seriously. Lithium? In solar panels? Cmon man.\n",
      "Finished Roberta\n",
      "Finished value! 7\n",
      "Start Process\n",
      "The article makes this out to be a big thing but I'm wondering what useful changes might actually happen because I don't see them state any.\n",
      "\n",
      "Quantifying more accurately is good and all, but does it make a difference in action? People uncaring at this point are likely to still remain uncaring. Or would it tip some people who are currently in the sidelines? Would people who are currently concerned become more active participants in environmental friendly actions?\n",
      "\n",
      "How are governments even bound by the emissions reduction targets? Who's going to punish them? Are individuals responsible for environmentally unfriendly policies going to be punished for violation of human rights now? If governments are bound to targets they set themselves, what are the chances this court ruling would instead rebound and make policymakers set lower targets?\n",
      "\n",
      "I'm being pessimistic about the direct effects of this ruling but overall, having a legal precedent that says normal climate is a human right is a great thing going forward.\n",
      "Finished Roberta\n",
      "Finished value! 8\n",
      "Start Process\n",
      "I totally get the main populist party going absolutely mental against that, because the ruling is plain crazy \n",
      "Finished Roberta\n",
      "Finished value! 9\n",
      "list initialization complete!\n"
     ]
    }
   ],
   "source": [
    "#RUN FOR ROBERTA-VADER HYBRID MODEL\n",
    "pos_score_series, neu_score_series, neg_score_series, comp_score_series, overall_sentiment_eval_series, model_used = runmodel_roberta_hybrid(fixed_roberta_partial)\n",
    "#WARNING. THIS MODEL TAKES A FOREVER LONG TIME. PROCEED WITH CAUTION"
   ]
  },
  {
   "cell_type": "code",
   "execution_count": 47,
   "metadata": {},
   "outputs": [
    {
     "data": {
      "text/html": [
       "<div>\n",
       "<style scoped>\n",
       "    .dataframe tbody tr th:only-of-type {\n",
       "        vertical-align: middle;\n",
       "    }\n",
       "\n",
       "    .dataframe tbody tr th {\n",
       "        vertical-align: top;\n",
       "    }\n",
       "\n",
       "    .dataframe thead th {\n",
       "        text-align: right;\n",
       "    }\n",
       "</style>\n",
       "<table border=\"1\" class=\"dataframe\">\n",
       "  <thead>\n",
       "    <tr style=\"text-align: right;\">\n",
       "      <th></th>\n",
       "      <th>Positive Scores</th>\n",
       "      <th>Neutral Scores</th>\n",
       "      <th>Negative Scores</th>\n",
       "      <th>Overall Evaluation</th>\n",
       "      <th>Model Used</th>\n",
       "    </tr>\n",
       "    <tr>\n",
       "      <th>Reddit Comments</th>\n",
       "      <th></th>\n",
       "      <th></th>\n",
       "      <th></th>\n",
       "      <th></th>\n",
       "      <th></th>\n",
       "    </tr>\n",
       "  </thead>\n",
       "  <tbody>\n",
       "    <tr>\n",
       "      <th>Seeing parents letting their children look up without protection .. so bad...</th>\n",
       "      <td>0.000</td>\n",
       "      <td>1.000</td>\n",
       "      <td>0.000</td>\n",
       "      <td>Neutral</td>\n",
       "      <td>Vader</td>\n",
       "    </tr>\n",
       "    <tr>\n",
       "      <th>You know who also benefits from WFH? The people that have to be on site because there is less traffic and completion for parking. \\n\\nPretty much everyone wins with WFH except commercial real estate.</th>\n",
       "      <td>0.235</td>\n",
       "      <td>0.765</td>\n",
       "      <td>0.000</td>\n",
       "      <td>Positive</td>\n",
       "      <td>Vader</td>\n",
       "    </tr>\n",
       "    <tr>\n",
       "      <th>Do you have any concept of how expensive public transportation is to operate and maintain? The only reason it is as cheap as it is is because it's heavily subsidized from tolls on drivers.\\n\\nIf driving was reduced, funding would be reduced but the price of tolls wouldn't go down (they virtually never do). So, to make up that lost revenue in the form of increased taxes, now the people who still need to drive have to still pay the same tolls AND now they get to pay a tax too. Then, the lower income people who never had to pay a tax on transit now have to pay fares and now a new tax.\\n\\nFor example, The NYC MTA is a black hole of money. Throwing more revenue at it never reduces costs to users.</th>\n",
       "      <td>0.019</td>\n",
       "      <td>0.894</td>\n",
       "      <td>0.087</td>\n",
       "      <td>Negative</td>\n",
       "      <td>Vader</td>\n",
       "    </tr>\n",
       "    <tr>\n",
       "      <th>Renewables, namely hydro, were the primary mover for the first few decades of the Industrial Revolution. But the steam engine allowed for longer working hours and more control over the working class, so it won out despite the fuel being more expensive.\\n\\nRead *fossil capital* by Andreas Malm.</th>\n",
       "      <td>0.104</td>\n",
       "      <td>0.896</td>\n",
       "      <td>0.000</td>\n",
       "      <td>Positive</td>\n",
       "      <td>Vader</td>\n",
       "    </tr>\n",
       "    <tr>\n",
       "      <th>??</th>\n",
       "      <td>0.000</td>\n",
       "      <td>1.000</td>\n",
       "      <td>0.000</td>\n",
       "      <td>Neutral</td>\n",
       "      <td>Vader</td>\n",
       "    </tr>\n",
       "    <tr>\n",
       "      <th>Translation: oil and gas companies will lose money when people aren't forced to drive to and from work every day.\\n\\n\\nWorkers will save money and time from working from home.\\n\\n\\n\\n\\n It's actually win win.</th>\n",
       "      <td>0.295</td>\n",
       "      <td>0.645</td>\n",
       "      <td>0.060</td>\n",
       "      <td>Positive</td>\n",
       "      <td>Vader</td>\n",
       "    </tr>\n",
       "    <tr>\n",
       "      <th>And how is that working out?</th>\n",
       "      <td>0.000</td>\n",
       "      <td>1.000</td>\n",
       "      <td>0.000</td>\n",
       "      <td>Neutral</td>\n",
       "      <td>Vader</td>\n",
       "    </tr>\n",
       "    <tr>\n",
       "      <th>This is why nobody takes nukecels seriously. Lithium? In solar panels? Cmon man.</th>\n",
       "      <td>0.000</td>\n",
       "      <td>0.853</td>\n",
       "      <td>0.147</td>\n",
       "      <td>Negative</td>\n",
       "      <td>Vader</td>\n",
       "    </tr>\n",
       "    <tr>\n",
       "      <th>The article makes this out to be a big thing but I'm wondering what useful changes might actually happen because I don't see them state any.\\n\\nQuantifying more accurately is good and all, but does it make a difference in action? People uncaring at this point are likely to still remain uncaring. Or would it tip some people who are currently in the sidelines? Would people who are currently concerned become more active participants in environmental friendly actions?\\n\\nHow are governments even bound by the emissions reduction targets? Who's going to punish them? Are individuals responsible for environmentally unfriendly policies going to be punished for violation of human rights now? If governments are bound to targets they set themselves, what are the chances this court ruling would instead rebound and make policymakers set lower targets?\\n\\nI'm being pessimistic about the direct effects of this ruling but overall, having a legal precedent that says normal climate is a human right is a great thing going forward.</th>\n",
       "      <td>0.152</td>\n",
       "      <td>0.736</td>\n",
       "      <td>0.113</td>\n",
       "      <td>Positive</td>\n",
       "      <td>Vader</td>\n",
       "    </tr>\n",
       "    <tr>\n",
       "      <th>I totally get the main populist party going absolutely mental against that, because the ruling is plain crazy</th>\n",
       "      <td>0.134</td>\n",
       "      <td>0.746</td>\n",
       "      <td>0.119</td>\n",
       "      <td>Neutral</td>\n",
       "      <td>Vader</td>\n",
       "    </tr>\n",
       "  </tbody>\n",
       "</table>\n",
       "</div>"
      ],
      "text/plain": [
       "                                                    Positive Scores  \\\n",
       "Reddit Comments                                                       \n",
       "Seeing parents letting their children look up w...            0.000   \n",
       "You know who also benefits from WFH? The people...            0.235   \n",
       "Do you have any concept of how expensive public...            0.019   \n",
       "Renewables, namely hydro, were the primary move...            0.104   \n",
       "??                                                            0.000   \n",
       "Translation: oil and gas companies will lose mo...            0.295   \n",
       "And how is that working out?                                  0.000   \n",
       "This is why nobody takes nukecels seriously. Li...            0.000   \n",
       "The article makes this out to be a big thing bu...            0.152   \n",
       "I totally get the main populist party going abs...            0.134   \n",
       "\n",
       "                                                    Neutral Scores  \\\n",
       "Reddit Comments                                                      \n",
       "Seeing parents letting their children look up w...           1.000   \n",
       "You know who also benefits from WFH? The people...           0.765   \n",
       "Do you have any concept of how expensive public...           0.894   \n",
       "Renewables, namely hydro, were the primary move...           0.896   \n",
       "??                                                           1.000   \n",
       "Translation: oil and gas companies will lose mo...           0.645   \n",
       "And how is that working out?                                 1.000   \n",
       "This is why nobody takes nukecels seriously. Li...           0.853   \n",
       "The article makes this out to be a big thing bu...           0.736   \n",
       "I totally get the main populist party going abs...           0.746   \n",
       "\n",
       "                                                    Negative Scores  \\\n",
       "Reddit Comments                                                       \n",
       "Seeing parents letting their children look up w...            0.000   \n",
       "You know who also benefits from WFH? The people...            0.000   \n",
       "Do you have any concept of how expensive public...            0.087   \n",
       "Renewables, namely hydro, were the primary move...            0.000   \n",
       "??                                                            0.000   \n",
       "Translation: oil and gas companies will lose mo...            0.060   \n",
       "And how is that working out?                                  0.000   \n",
       "This is why nobody takes nukecels seriously. Li...            0.147   \n",
       "The article makes this out to be a big thing bu...            0.113   \n",
       "I totally get the main populist party going abs...            0.119   \n",
       "\n",
       "                                                   Overall Evaluation  \\\n",
       "Reddit Comments                                                         \n",
       "Seeing parents letting their children look up w...            Neutral   \n",
       "You know who also benefits from WFH? The people...           Positive   \n",
       "Do you have any concept of how expensive public...           Negative   \n",
       "Renewables, namely hydro, were the primary move...           Positive   \n",
       "??                                                            Neutral   \n",
       "Translation: oil and gas companies will lose mo...           Positive   \n",
       "And how is that working out?                                  Neutral   \n",
       "This is why nobody takes nukecels seriously. Li...           Negative   \n",
       "The article makes this out to be a big thing bu...           Positive   \n",
       "I totally get the main populist party going abs...            Neutral   \n",
       "\n",
       "                                                   Model Used  \n",
       "Reddit Comments                                                \n",
       "Seeing parents letting their children look up w...      Vader  \n",
       "You know who also benefits from WFH? The people...      Vader  \n",
       "Do you have any concept of how expensive public...      Vader  \n",
       "Renewables, namely hydro, were the primary move...      Vader  \n",
       "??                                                      Vader  \n",
       "Translation: oil and gas companies will lose mo...      Vader  \n",
       "And how is that working out?                            Vader  \n",
       "This is why nobody takes nukecels seriously. Li...      Vader  \n",
       "The article makes this out to be a big thing bu...      Vader  \n",
       "I totally get the main populist party going abs...      Vader  "
      ]
     },
     "execution_count": 47,
     "metadata": {},
     "output_type": "execute_result"
    }
   ],
   "source": [
    "\n",
    "sentiment_text_dict = {\"Reddit Comments\": fixed_roberta_partial,\n",
    "                       \"Positive Scores\": pos_score_series,\n",
    "                       \"Neutral Scores\": neu_score_series,\n",
    "                       \"Negative Scores\": neg_score_series,\n",
    "                       #\"Compound Scores\": comp_score_series\n",
    "                       \"Overall Evaluation\": overall_sentiment_eval_series,\n",
    "                       \"Model Used\": model_used\n",
    "                       }\n",
    "reddit_sentiment_dataframe = pd.DataFrame(sentiment_text_dict)\n",
    "reddit_sentiment_dataframe = reddit_sentiment_dataframe.set_index(\"Reddit Comments\")\n",
    "reddit_sentiment_dataframe"
   ]
  },
  {
   "cell_type": "code",
   "execution_count": null,
   "metadata": {},
   "outputs": [],
   "source": []
  },
  {
   "cell_type": "code",
   "execution_count": null,
   "metadata": {},
   "outputs": [
    {
     "data": {
      "text/html": [
       "<div>\n",
       "<style scoped>\n",
       "    .dataframe tbody tr th:only-of-type {\n",
       "        vertical-align: middle;\n",
       "    }\n",
       "\n",
       "    .dataframe tbody tr th {\n",
       "        vertical-align: top;\n",
       "    }\n",
       "\n",
       "    .dataframe thead th {\n",
       "        text-align: right;\n",
       "    }\n",
       "</style>\n",
       "<table border=\"1\" class=\"dataframe\">\n",
       "  <thead>\n",
       "    <tr style=\"text-align: right;\">\n",
       "      <th></th>\n",
       "      <th>Positive Scores</th>\n",
       "      <th>Neutral Scores</th>\n",
       "      <th>Negative Scores</th>\n",
       "      <th>Overall Evaluation</th>\n",
       "      <th>Model Used</th>\n",
       "    </tr>\n",
       "    <tr>\n",
       "      <th>Reddit Comments</th>\n",
       "      <th></th>\n",
       "      <th></th>\n",
       "      <th></th>\n",
       "      <th></th>\n",
       "      <th></th>\n",
       "    </tr>\n",
       "  </thead>\n",
       "  <tbody>\n",
       "    <tr>\n",
       "      <th>Seeing parents letting their children look up without protection .. so bad...</th>\n",
       "      <td>0.004852</td>\n",
       "      <td>0.060506</td>\n",
       "      <td>0.934642</td>\n",
       "      <td>Negative</td>\n",
       "      <td>Roberta</td>\n",
       "    </tr>\n",
       "    <tr>\n",
       "      <th>You know who also benefits from WFH? The people that have to be on site because there is less traffic and completion for parking. \\n\\nPretty much everyone wins with WFH except commercial real estate.</th>\n",
       "      <td>0.550740</td>\n",
       "      <td>0.374002</td>\n",
       "      <td>0.075259</td>\n",
       "      <td>Positive</td>\n",
       "      <td>Roberta</td>\n",
       "    </tr>\n",
       "    <tr>\n",
       "      <th>Do you have any concept of how expensive public transportation is to operate and maintain? The only reason it is as cheap as it is is because it's heavily subsidized from tolls on drivers.\\n\\nIf driving was reduced, funding would be reduced but the price of tolls wouldn't go down (they virtually never do). So, to make up that lost revenue in the form of increased taxes, now the people who still need to drive have to still pay the same tolls AND now they get to pay a tax too. Then, the lower income people who never had to pay a tax on transit now have to pay fares and now a new tax.\\n\\nFor example, The NYC MTA is a black hole of money. Throwing more revenue at it never reduces costs to users.</th>\n",
       "      <td>0.028619</td>\n",
       "      <td>0.205882</td>\n",
       "      <td>0.765499</td>\n",
       "      <td>Negative</td>\n",
       "      <td>Roberta</td>\n",
       "    </tr>\n",
       "    <tr>\n",
       "      <th>Renewables, namely hydro, were the primary mover for the first few decades of the Industrial Revolution. But the steam engine allowed for longer working hours and more control over the working class, so it won out despite the fuel being more expensive.\\n\\nRead *fossil capital* by Andreas Malm.</th>\n",
       "      <td>0.242185</td>\n",
       "      <td>0.594620</td>\n",
       "      <td>0.163195</td>\n",
       "      <td>Neutral</td>\n",
       "      <td>Roberta</td>\n",
       "    </tr>\n",
       "    <tr>\n",
       "      <th>??</th>\n",
       "      <td>0.082691</td>\n",
       "      <td>0.691444</td>\n",
       "      <td>0.225865</td>\n",
       "      <td>Negative</td>\n",
       "      <td>Roberta</td>\n",
       "    </tr>\n",
       "    <tr>\n",
       "      <th>Translation: oil and gas companies will lose money when people aren't forced to drive to and from work every day.\\n\\n\\nWorkers will save money and time from working from home.\\n\\n\\n\\n\\n It's actually win win.</th>\n",
       "      <td>0.204508</td>\n",
       "      <td>0.507243</td>\n",
       "      <td>0.288249</td>\n",
       "      <td>Neutral</td>\n",
       "      <td>Roberta</td>\n",
       "    </tr>\n",
       "    <tr>\n",
       "      <th>And how is that working out?</th>\n",
       "      <td>0.031819</td>\n",
       "      <td>0.685565</td>\n",
       "      <td>0.282616</td>\n",
       "      <td>Negative</td>\n",
       "      <td>Roberta</td>\n",
       "    </tr>\n",
       "    <tr>\n",
       "      <th>This is why nobody takes nukecels seriously. Lithium? In solar panels? Cmon man.</th>\n",
       "      <td>0.004233</td>\n",
       "      <td>0.072798</td>\n",
       "      <td>0.922969</td>\n",
       "      <td>Negative</td>\n",
       "      <td>Roberta</td>\n",
       "    </tr>\n",
       "    <tr>\n",
       "      <th>The article makes this out to be a big thing but I'm wondering what useful changes might actually happen because I don't see them state any.\\n\\nQuantifying more accurately is good and all, but does it make a difference in action? People uncaring at this point are likely to still remain uncaring. Or would it tip some people who are currently in the sidelines? Would people who are currently concerned become more active participants in environmental friendly actions?\\n\\nHow are governments even bound by the emissions reduction targets? Who's going to punish them? Are individuals responsible for environmentally unfriendly policies going to be punished for violation of human rights now? If governments are bound to targets they set themselves, what are the chances this court ruling would instead rebound and make policymakers set lower targets?\\n\\nI'm being pessimistic about the direct effects of this ruling but overall, having a legal precedent that says normal climate is a human right is a great thing going forward.</th>\n",
       "      <td>0.121335</td>\n",
       "      <td>0.535742</td>\n",
       "      <td>0.342923</td>\n",
       "      <td>Negative</td>\n",
       "      <td>Roberta</td>\n",
       "    </tr>\n",
       "    <tr>\n",
       "      <th>I totally get the main populist party going absolutely mental against that, because the ruling is plain crazy</th>\n",
       "      <td>0.021092</td>\n",
       "      <td>0.178943</td>\n",
       "      <td>0.799965</td>\n",
       "      <td>Negative</td>\n",
       "      <td>Roberta</td>\n",
       "    </tr>\n",
       "  </tbody>\n",
       "</table>\n",
       "</div>"
      ],
      "text/plain": [
       "                                                    Positive Scores  \\\n",
       "Reddit Comments                                                       \n",
       "Seeing parents letting their children look up w...         0.004852   \n",
       "You know who also benefits from WFH? The people...         0.550740   \n",
       "Do you have any concept of how expensive public...         0.028619   \n",
       "Renewables, namely hydro, were the primary move...         0.242185   \n",
       "??                                                         0.082691   \n",
       "Translation: oil and gas companies will lose mo...         0.204508   \n",
       "And how is that working out?                               0.031819   \n",
       "This is why nobody takes nukecels seriously. Li...         0.004233   \n",
       "The article makes this out to be a big thing bu...         0.121335   \n",
       "I totally get the main populist party going abs...         0.021092   \n",
       "\n",
       "                                                    Neutral Scores  \\\n",
       "Reddit Comments                                                      \n",
       "Seeing parents letting their children look up w...        0.060506   \n",
       "You know who also benefits from WFH? The people...        0.374002   \n",
       "Do you have any concept of how expensive public...        0.205882   \n",
       "Renewables, namely hydro, were the primary move...        0.594620   \n",
       "??                                                        0.691444   \n",
       "Translation: oil and gas companies will lose mo...        0.507243   \n",
       "And how is that working out?                              0.685565   \n",
       "This is why nobody takes nukecels seriously. Li...        0.072798   \n",
       "The article makes this out to be a big thing bu...        0.535742   \n",
       "I totally get the main populist party going abs...        0.178943   \n",
       "\n",
       "                                                    Negative Scores  \\\n",
       "Reddit Comments                                                       \n",
       "Seeing parents letting their children look up w...         0.934642   \n",
       "You know who also benefits from WFH? The people...         0.075259   \n",
       "Do you have any concept of how expensive public...         0.765499   \n",
       "Renewables, namely hydro, were the primary move...         0.163195   \n",
       "??                                                         0.225865   \n",
       "Translation: oil and gas companies will lose mo...         0.288249   \n",
       "And how is that working out?                               0.282616   \n",
       "This is why nobody takes nukecels seriously. Li...         0.922969   \n",
       "The article makes this out to be a big thing bu...         0.342923   \n",
       "I totally get the main populist party going abs...         0.799965   \n",
       "\n",
       "                                                   Overall Evaluation  \\\n",
       "Reddit Comments                                                         \n",
       "Seeing parents letting their children look up w...           Negative   \n",
       "You know who also benefits from WFH? The people...           Positive   \n",
       "Do you have any concept of how expensive public...           Negative   \n",
       "Renewables, namely hydro, were the primary move...            Neutral   \n",
       "??                                                           Negative   \n",
       "Translation: oil and gas companies will lose mo...            Neutral   \n",
       "And how is that working out?                                 Negative   \n",
       "This is why nobody takes nukecels seriously. Li...           Negative   \n",
       "The article makes this out to be a big thing bu...           Negative   \n",
       "I totally get the main populist party going abs...           Negative   \n",
       "\n",
       "                                                   Model Used  \n",
       "Reddit Comments                                                \n",
       "Seeing parents letting their children look up w...    Roberta  \n",
       "You know who also benefits from WFH? The people...    Roberta  \n",
       "Do you have any concept of how expensive public...    Roberta  \n",
       "Renewables, namely hydro, were the primary move...    Roberta  \n",
       "??                                                    Roberta  \n",
       "Translation: oil and gas companies will lose mo...    Roberta  \n",
       "And how is that working out?                          Roberta  \n",
       "This is why nobody takes nukecels seriously. Li...    Roberta  \n",
       "The article makes this out to be a big thing bu...    Roberta  \n",
       "I totally get the main populist party going abs...    Roberta  "
      ]
     },
     "metadata": {},
     "output_type": "display_data"
    }
   ],
   "source": [
    "#VADER VERSION\n",
    "sentiment_text_dict = {\"Reddit Comments\": fixed_partial,\n",
    "                       \"Positive Scores\": pos_score_series,\n",
    "                       \"Neutral Scores\": neu_score_series,\n",
    "                       \"Negative Scores\": neg_score_series,\n",
    "                       #\"Compound Scores\": comp_score_series\n",
    "                       \"Overall Evaluation\": overall_sentiment_eval_series,\n",
    "                       \"Model Used\": model_used\n",
    "                       }\n",
    "reddit_sentiment_dataframe = pd.DataFrame(sentiment_text_dict)\n",
    "reddit_sentiment_dataframe = reddit_sentiment_dataframe.set_index(\"Reddit Comments\")\n",
    "reddit_sentiment_dataframe"
   ]
  }
 ],
 "metadata": {
  "kernelspec": {
   "display_name": "venv",
   "language": "python",
   "name": "python3"
  },
  "language_info": {
   "codemirror_mode": {
    "name": "ipython",
    "version": 3
   },
   "file_extension": ".py",
   "mimetype": "text/x-python",
   "name": "python",
   "nbconvert_exporter": "python",
   "pygments_lexer": "ipython3",
   "version": "3.9.7"
  }
 },
 "nbformat": 4,
 "nbformat_minor": 2
}
